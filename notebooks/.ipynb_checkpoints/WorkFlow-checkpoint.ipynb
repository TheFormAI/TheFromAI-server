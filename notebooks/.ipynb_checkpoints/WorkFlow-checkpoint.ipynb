{
 "cells": [
  {
   "cell_type": "markdown",
   "id": "231476b3-f075-403b-a2e8-8dbf3033e398",
   "metadata": {},
   "source": [
    "#### Development Set-up"
   ]
  },
  {
   "cell_type": "code",
   "execution_count": 1,
   "id": "59a50d77-e47f-4a42-a4ac-9a6e7858bb4c",
   "metadata": {},
   "outputs": [],
   "source": [
    "import os\n",
    "project_root = os.path.abspath(os.path.join(os.getcwd(), \"..\"))\n",
    "os.chdir(project_root)"
   ]
  },
  {
   "cell_type": "code",
   "execution_count": 2,
   "id": "6d296084-ce4e-4e26-be8e-5d2669e9b525",
   "metadata": {},
   "outputs": [],
   "source": [
    "import json\n",
    "from openai import OpenAI\n",
    "from dotenv import load_dotenv\n",
    "\n",
    "from utils.model_utils import (Form,get_usage_cost,get_tailored_form,\n",
    "                               parse_results)\n",
    "from assets.llm_assets import (llm_model_configs,\n",
    "                               system_prompt)\n",
    "\n",
    "from typing import Dict, Tuple, Any\n",
    "\n",
    "load_dotenv()\n",
    "OPENAI_KEY = os.environ.get(\"OPENAI_KEY\")\n",
    "client     = OpenAI(api_key=OPENAI_KEY)"
   ]
  },
  {
   "cell_type": "code",
   "execution_count": null,
   "id": "a3620a0c-d8fc-4bc9-905a-db9c22a6ce3d",
   "metadata": {},
   "outputs": [],
   "source": [
    "config = llm_model_configs[\"gpt-4o\"]\n",
    "input_data = json.load(open(\"assets/input_dummy.json\",\"r\"))[\"dummy_input_configuration\"]\n",
    "system_prompt = system_prompt\n",
    "\n",
    "result, usage_cost = get_tailored_form(client=client,config=config,\n",
    "                                       system_prompt=system_prompt,\n",
    "                                       input_data=input_data)\n",
    "\n",
    "parse_results(response_out=result)"
   ]
  }
 ],
 "metadata": {
  "kernelspec": {
   "display_name": "Python 3 (ipykernel)",
   "language": "python",
   "name": "python3"
  },
  "language_info": {
   "codemirror_mode": {
    "name": "ipython",
    "version": 3
   },
   "file_extension": ".py",
   "mimetype": "text/x-python",
   "name": "python",
   "nbconvert_exporter": "python",
   "pygments_lexer": "ipython3",
   "version": "3.12.9"
  }
 },
 "nbformat": 4,
 "nbformat_minor": 5
}
